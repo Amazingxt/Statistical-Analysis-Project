{
 "cells": [
  {
   "cell_type": "markdown",
   "metadata": {},
   "source": [
    "## 导入模块"
   ]
  },
  {
   "cell_type": "code",
   "execution_count": 4,
   "metadata": {},
   "outputs": [],
   "source": [
    "import pandas as pd\n",
    "import numpy as np\n",
    "from sklearn.model_selection import train_test_split\n",
    "from sklearn.preprocessing import LabelEncoder\n",
    "from sklearn.preprocessing import OneHotEncoder\n",
    "from sklearn.preprocessing import MinMaxScaler\n",
    "from sklearn.feature_selection import VarianceThreshold\n",
    "from sklearn.feature_selection import SelectKBest\n",
    "from scipy.stats import pearsonr\n",
    "from collections import Counter\n",
    "from scipy.stats import pearsonr\n",
    "from sklearn.feature_selection import chi2\n",
    "from sklearn.ensemble import RandomForestClassifier \n",
    "from sklearn.feature_selection import RFE\n",
    "from sklearn.feature_selection import SelectFromModel\n",
    "from sklearn.ensemble import GradientBoostingClassifier\n",
    "from sklearn.linear_model import LogisticRegression \n",
    "import sklearn\n",
    "import scipy\n",
    "from sklearn import metrics\n",
    "import matplotlib.pyplot as plt\n",
    "%matplotlib inline"
   ]
  },
  {
   "cell_type": "markdown",
   "metadata": {},
   "source": [
    "## 数据预处理"
   ]
  },
  {
   "cell_type": "code",
   "execution_count": 5,
   "metadata": {},
   "outputs": [],
   "source": [
    "data = pd.read_csv('data_model.csv')\n",
    "variable = pd.read_excel('变量说明表.xlsx')\n",
    "data_train = data.iloc[:,:-1]\n",
    "data_target = data.iloc[:,-1:]\n",
    "target = [x[0] for x in data_target.values]\n",
    "\n",
    "index = np.where(variable.iloc[2:,6] > 0.5)   # 原始数据缺失率超过50%的数据的index\n",
    "Drop_features = data_train.columns.values[index]\n",
    "data_train = data_train.drop(Drop_features,axis=1)\n",
    "\n",
    "le = LabelEncoder()\n",
    "enc = OneHotEncoder(sparse=False)\n",
    "\n",
    "for feature in ['custr_EDUCA','bill_num_curver','bill_amt_curver']:  # 需要进行整数编码的特征\n",
    "    data_train[feature] = le.fit_transform(data_train[feature])   \n",
    "    \n",
    "for feature in ['custr_organ','custr_gender','custr_MAR_STATUS','xaccount_addr_type','xaccount_ifautopay','xaccount_CON_REL']:\n",
    "# for feature in ['custr_organ']:\n",
    "    # 需要进行One-Hot编码的特征\n",
    "    a = le.fit_transform(data_train[feature])\n",
    "    b = enc.fit_transform(a.reshape(-1,1))\n",
    "    columns = []\n",
    "    for i in range(b.shape[1]):\n",
    "        columns.append(feature+'_'+str(i))\n",
    "    df = pd.DataFrame(b,columns=columns)  # One-Hot编码的同时保留列的名称\n",
    "    data_train = pd.concat([data_train,df],axis=1)\n",
    "    data_train = data_train.drop([feature],axis=1)\n",
    "    \n",
    "scaler = MinMaxScaler()\n",
    "data_train = pd.DataFrame(scaler.fit_transform(data_train),columns=data_train.columns)"
   ]
  },
  {
   "cell_type": "code",
   "execution_count": 6,
   "metadata": {},
   "outputs": [],
   "source": [
    "X_train, X_test, y_train, y_test = train_test_split(data_train, target, test_size=0.3, random_state=42)"
   ]
  },
  {
   "cell_type": "markdown",
   "metadata": {},
   "source": [
    "## 建立模型"
   ]
  },
  {
   "cell_type": "markdown",
   "metadata": {},
   "source": [
    "### 逻辑回归分类器"
   ]
  },
  {
   "cell_type": "code",
   "execution_count": 7,
   "metadata": {},
   "outputs": [],
   "source": [
    "def logistic_regression_classifier(train_x, train_y):  \n",
    "    from sklearn.linear_model import LogisticRegression  \n",
    "    model = LogisticRegression(penalty='l2')  \n",
    "    model.fit(train_x, train_y)  \n",
    "    return model  "
   ]
  },
  {
   "cell_type": "markdown",
   "metadata": {},
   "source": [
    "### 朴素贝叶斯分类器"
   ]
  },
  {
   "cell_type": "code",
   "execution_count": 8,
   "metadata": {},
   "outputs": [],
   "source": [
    "def naive_bayes_classifier(train_x, train_y):  \n",
    "    from sklearn.naive_bayes import MultinomialNB  \n",
    "    model = MultinomialNB(alpha=0.01)  \n",
    "    model.fit(train_x, train_y)  \n",
    "    return model "
   ]
  },
  {
   "cell_type": "markdown",
   "metadata": {},
   "source": [
    "### 自由森林分类器"
   ]
  },
  {
   "cell_type": "code",
   "execution_count": 9,
   "metadata": {},
   "outputs": [],
   "source": [
    "def random_forest_classifier(train_x, train_y):  \n",
    "    from sklearn.ensemble import RandomForestClassifier  \n",
    "    model = RandomForestClassifier(n_estimators=8)  \n",
    "    model.fit(train_x, train_y)  \n",
    "    return model "
   ]
  },
  {
   "cell_type": "markdown",
   "metadata": {},
   "source": [
    "### 决策树分类器"
   ]
  },
  {
   "cell_type": "code",
   "execution_count": 10,
   "metadata": {},
   "outputs": [],
   "source": [
    " def decision_tree_classifier(train_x, train_y):  \n",
    "    from sklearn import tree  \n",
    "    model = tree.DecisionTreeClassifier()  \n",
    "    model.fit(train_x, train_y)  \n",
    "    return model "
   ]
  },
  {
   "cell_type": "markdown",
   "metadata": {},
   "source": [
    "### GBDT分类器"
   ]
  },
  {
   "cell_type": "code",
   "execution_count": 11,
   "metadata": {},
   "outputs": [],
   "source": [
    "def gradient_boosting_classifier(train_x, train_y):  \n",
    "    from sklearn.ensemble import GradientBoostingClassifier  \n",
    "    model = GradientBoostingClassifier(n_estimators=200)  \n",
    "    model.fit(train_x, train_y)  \n",
    "    return model "
   ]
  },
  {
   "cell_type": "markdown",
   "metadata": {},
   "source": [
    "### SVM分类器"
   ]
  },
  {
   "cell_type": "code",
   "execution_count": 12,
   "metadata": {},
   "outputs": [],
   "source": [
    "def svm_classifier(train_x, train_y):  \n",
    "    from sklearn.svm import SVC  \n",
    "    model = SVC(kernel='rbf', probability=True)  \n",
    "    model.fit(train_x, train_y)  \n"
   ]
  },
  {
   "cell_type": "markdown",
   "metadata": {},
   "source": [
    "### 带交叉验证的SVM分类器"
   ]
  },
  {
   "cell_type": "code",
   "execution_count": 13,
   "metadata": {},
   "outputs": [],
   "source": [
    "def svm_cross_validation(train_x, train_y):  \n",
    "    from sklearn.grid_search import GridSearchCV  \n",
    "    from sklearn.svm import SVC  \n",
    "    model = SVC(kernel='rbf', probability=True)  \n",
    "    param_grid = {'C': [1e-3, 1e-2, 1e-1, 1, 10, 100, 1000], 'gamma': [0.001, 0.0001]}  \n",
    "    grid_search = GridSearchCV(model, param_grid, n_jobs = 1, verbose=1)  \n",
    "    grid_search.fit(train_x, train_y)  \n",
    "    best_parameters = grid_search.best_estimator_.get_params()  \n",
    "    for para, val in list(best_parameters.items()):  \n",
    "        print(para, val)  \n",
    "    model = SVC(kernel='rbf', C=best_parameters['C'], gamma=best_parameters['gamma'], probability=True)  \n",
    "    model.fit(train_x, train_y)  \n",
    "    return model "
   ]
  },
  {
   "cell_type": "markdown",
   "metadata": {},
   "source": [
    "### XGB分类器"
   ]
  },
  {
   "cell_type": "code",
   "execution_count": 14,
   "metadata": {},
   "outputs": [],
   "source": [
    " def XGBoost_classifier(train_x, train_y):  \n",
    "    import xgboost as xgb \n",
    "    model = xgb.XGBClassifier(max_depth=3, n_estimators=300, learning_rate=0.05).fit(train_x, train_y) \n",
    "    return model "
   ]
  },
  {
   "cell_type": "markdown",
   "metadata": {},
   "source": [
    "### Catboost分类器"
   ]
  },
  {
   "cell_type": "code",
   "execution_count": 15,
   "metadata": {},
   "outputs": [],
   "source": [
    "def CatBoost_classifier(train_x, train_y):  \n",
    "    from catboost import CatBoostClassifier\n",
    "    model=CatBoostClassifier(iterations=2,depth=2,learning_rate=1,loss_function='Logloss', logging_level='Verbose').fit(train_x, train_y)\n",
    "    return model "
   ]
  },
  {
   "cell_type": "markdown",
   "metadata": {},
   "source": [
    "## 评估模型"
   ]
  },
  {
   "cell_type": "code",
   "execution_count": 16,
   "metadata": {},
   "outputs": [],
   "source": [
    "def scores_of_model(model,y_train,y_test):\n",
    "    y_pred_class = model.predict(y_train)\n",
    "    print(y_pred_class)\n",
    "    print('混淆矩阵：',metrics.confusion_matrix(y_test, y_pred_class))\n",
    "    print('分类准确率：',metrics.accuracy_score(y_test, y_pred_class))\n",
    "    print('分类召回率：',metrics.recall_score(y_test, y_pred_class))\n",
    "    print('f1-score：',metrics.f1_score(y_test, y_pred_class))\n",
    "    \n",
    "    return y_pred_class"
   ]
  },
  {
   "cell_type": "code",
   "execution_count": 17,
   "metadata": {},
   "outputs": [
    {
     "name": "stdout",
     "output_type": "stream",
     "text": [
      "model Logistic\n",
      "[0 0 0 ... 0 0 0]\n",
      "混淆矩阵： [[43156    45]\n",
      " [ 1082   141]]\n",
      "分类准确率： 0.9746308301818837\n",
      "分类召回率： 0.11529026982829109\n",
      "f1-score： 0.2001419446415898\n"
     ]
    }
   ],
   "source": [
    "model_logistic = logistic_regression_classifier(X_train,y_train)\n",
    "print('model Logistic')\n",
    "y_score_logistic = scores_of_model(model_logistic,X_test,y_test)"
   ]
  },
  {
   "cell_type": "code",
   "execution_count": 18,
   "metadata": {},
   "outputs": [
    {
     "name": "stdout",
     "output_type": "stream",
     "text": [
      "model Bayes\n",
      "[0 0 0 ... 0 0 1]\n",
      "混淆矩阵： [[40624  2577]\n",
      " [  979   244]]\n",
      "分类准确率： 0.9199531784620926\n",
      "分类召回率： 0.19950940310711365\n",
      "f1-score： 0.12067260138476756\n"
     ]
    }
   ],
   "source": [
    "model_bayes = naive_bayes_classifier(X_train,y_train)\n",
    "print('model Bayes')\n",
    "y_score_bayes = scores_of_model(model_bayes,X_test,y_test)"
   ]
  },
  {
   "cell_type": "code",
   "execution_count": 19,
   "metadata": {},
   "outputs": [
    {
     "name": "stdout",
     "output_type": "stream",
     "text": [
      "model Random forest\n",
      "[0 0 0 ... 0 0 0]\n",
      "混淆矩阵： [[43158    43]\n",
      " [  790   433]]\n",
      "分类准确率： 0.9812488744822618\n",
      "分类召回率： 0.35404742436631237\n",
      "f1-score： 0.5097115950559152\n"
     ]
    }
   ],
   "source": [
    "model_random_forest = random_forest_classifier(X_train,y_train)\n",
    "print('model Random forest')\n",
    "y_score_random_forest = scores_of_model(model_random_forest,X_test,y_test)"
   ]
  },
  {
   "cell_type": "code",
   "execution_count": 20,
   "metadata": {},
   "outputs": [
    {
     "name": "stdout",
     "output_type": "stream",
     "text": [
      "model Decision tree\n",
      "[0 0 0 ... 0 0 0]\n",
      "混淆矩阵： [[42562   639]\n",
      " [  536   687]]\n",
      "分类准确率： 0.9735503331532505\n",
      "分类召回率： 0.5617334423548651\n",
      "f1-score： 0.5390349156531974\n"
     ]
    }
   ],
   "source": [
    "model_decision_tree = decision_tree_classifier(X_train,y_train)\n",
    "print('model Decision tree')\n",
    "y_score_decision_tree = scores_of_model(model_decision_tree,X_test,y_test)"
   ]
  },
  {
   "cell_type": "code",
   "execution_count": 21,
   "metadata": {},
   "outputs": [
    {
     "name": "stdout",
     "output_type": "stream",
     "text": [
      "model Gradient boosting\n",
      "[0 0 0 ... 0 0 0]\n",
      "混淆矩阵： [[43124    77]\n",
      " [  563   660]]\n",
      "分类准确率： 0.9855933729515577\n",
      "分类召回率： 0.5396565821749796\n",
      "f1-score： 0.6734693877551021\n"
     ]
    }
   ],
   "source": [
    "model_gradient_boosting = gradient_boosting_classifier(X_train,y_train)\n",
    "print('model Gradient boosting')\n",
    "y_score_gradient_boosting = scores_of_model(model_gradient_boosting,X_test,y_test)"
   ]
  },
  {
   "cell_type": "code",
   "execution_count": 22,
   "metadata": {},
   "outputs": [
    {
     "name": "stdout",
     "output_type": "stream",
     "text": [
      "model XGB\n",
      "[0 0 0 ... 0 0 0]\n",
      "混淆矩阵： [[43154    47]\n",
      " [  625   598]]\n",
      "分类准确率： 0.9848730415991356\n",
      "分类召回率： 0.48896156991005724\n",
      "f1-score： 0.6402569593147752\n"
     ]
    },
    {
     "name": "stderr",
     "output_type": "stream",
     "text": [
      "G:\\ProgramData\\Anaconda3\\lib\\site-packages\\sklearn\\preprocessing\\label.py:151: DeprecationWarning: The truth value of an empty array is ambiguous. Returning False, but in future this will result in an error. Use `array.size > 0` to check that an array is not empty.\n",
      "  if diff:\n"
     ]
    }
   ],
   "source": [
    "model_XGB = XGBoost_classifier(X_train,y_train)\n",
    "print('model XGB')\n",
    "y_score_XGB = scores_of_model(model_XGB,X_test,y_test)"
   ]
  },
  {
   "cell_type": "code",
   "execution_count": 23,
   "metadata": {},
   "outputs": [
    {
     "name": "stdout",
     "output_type": "stream",
     "text": [
      "0:\tlearn: 0.0972511\ttotal: 218ms\tremaining: 218ms\n",
      "1:\tlearn: 0.0838259\ttotal: 350ms\tremaining: 0us\n",
      "model CatBoost\n",
      "[0. 0. 0. ... 0. 0. 0.]\n",
      "混淆矩阵： [[43075   126]\n",
      " [  848   375]]\n",
      "分类准确率： 0.9780749144606519\n",
      "分类召回率： 0.30662305805396567\n",
      "f1-score： 0.43503480278422274\n"
     ]
    }
   ],
   "source": [
    "model_CatBoost = CatBoost_classifier(X_train,y_train)\n",
    "print('model CatBoost')\n",
    "y_score_Cat = scores_of_model(model_CatBoost,X_test,y_test)"
   ]
  },
  {
   "cell_type": "markdown",
   "metadata": {
    "collapsed": true
   },
   "source": [
    "### Roc曲线"
   ]
  },
  {
   "cell_type": "code",
   "execution_count": 24,
   "metadata": {},
   "outputs": [
    {
     "data": {
      "image/png": "[encoded data removed]",
      "text/plain": [
       "<Figure size 1080x720 with 6 Axes>"
      ]
     },
     "metadata": {},
     "output_type": "display_data"
    }
   ],
   "source": [
    "y_scores = [y_score_logistic,y_score_random_forest,y_score_decision_tree,y_score_gradient_boosting,y_score_XGB,y_score_Cat]\n",
    "f, axs = plt.subplots(2, 3,figsize=(15,10))\n",
    "for y_score,ax in zip(y_scores,np.hstack(axs)):\n",
    "    fpr,tpr,threshold = metrics.roc_curve(y_test, y_score) ###计算真正率和假正率\n",
    "\n",
    "    roc_auc = metrics.auc(fpr,tpr) ###计算auc的值\n",
    "    lw = 2\n",
    "    ax.plot(fpr, tpr, color='darkorange',\n",
    "             lw=lw, label='ROC curve (area = %0.2f)' % roc_auc) ###假正率为横坐标，真正率为纵坐标做曲线\n",
    "    ax.plot([0, 1], [0, 1], color='navy', lw=lw, linestyle='--')\n",
    "    plt.xlim([0.0, 1.0])\n",
    "    plt.ylim([0.0, 1.05])\n",
    "    ax.legend(loc=\"lower right\",prop={'size': 10})\n",
    "plt.show()"
   ]
  },
  {
   "cell_type": "code",
   "execution_count": null,
   "metadata": {
    "collapsed": true
   },
   "outputs": [],
   "source": []
  }
 ],
 "metadata": {
  "kernelspec": {
   "display_name": "Python 3",
   "language": "python",
   "name": "python3"
  },
  "language_info": {
   "codemirror_mode": {
    "name": "ipython",
    "version": 3
   },
   "file_extension": ".py",
   "mimetype": "text/x-python",
   "name": "python",
   "nbconvert_exporter": "python",
   "pygments_lexer": "ipython3",
   "version": "3.6.5"
  }
 },
 "nbformat": 4,
 "nbformat_minor": 2
}
