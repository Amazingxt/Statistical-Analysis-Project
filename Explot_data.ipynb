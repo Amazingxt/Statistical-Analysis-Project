{
 "cells": [
  {
   "cell_type": "markdown",
   "metadata": {},
   "source": [
    "# 导入模块"
   ]
  },
  {
   "cell_type": "code",
   "execution_count": 9,
   "metadata": {
    "collapsed": false
   },
   "outputs": [],
   "source": [
    "import numpy as np\n",
    "import pandas as pd\n",
    "from sklearn.preprocessing import LabelEncoder\n",
    "from sklearn.preprocessing import OneHotEncoder\n",
    "from sklearn.preprocessing import MinMaxScaler\n",
    "from sklearn.feature_selection import VarianceThreshold\n",
    "from sklearn.feature_selection import SelectKBest\n",
    "from scipy.stats import pearsonr\n",
    "from collections import Counter\n",
    "from scipy.stats import pearsonr\n",
    "from sklearn.feature_selection import chi2\n",
    "from sklearn.ensemble import RandomForestClassifier \n",
    "from sklearn.feature_selection import RFE\n",
    "from sklearn.feature_selection import SelectFromModel\n",
    "from sklearn.ensemble import GradientBoostingClassifier\n",
    "from sklearn.linear_model import LogisticRegression \n",
    "import sklearn\n",
    "import scipy"
   ]
  },
  {
   "cell_type": "markdown",
   "metadata": {},
   "source": [
    "# 数据预处理"
   ]
  },
  {
   "cell_type": "markdown",
   "metadata": {},
   "source": [
    "## 数据的基本信息"
   ]
  },
  {
   "cell_type": "code",
   "execution_count": 26,
   "metadata": {
    "collapsed": true
   },
   "outputs": [],
   "source": [
    "data = pd.read_csv('data_model.csv')\n",
    "\n",
    "variable = pd.read_excel('变量说明表.xlsx')"
   ]
  },
  {
   "cell_type": "code",
   "execution_count": 15,
   "metadata": {
    "collapsed": false,
    "scrolled": true
   },
   "outputs": [
    {
     "data": {
      "text/html": [
       "<div>\n",
       "<table border=\"1\" class=\"dataframe\">\n",
       "  <thead>\n",
       "    <tr style=\"text-align: right;\">\n",
       "      <th></th>\n",
       "      <th>custr_age</th>\n",
       "      <th>custr_organ</th>\n",
       "      <th>custr_gender</th>\n",
       "      <th>custr_MAR_STATUS</th>\n",
       "      <th>custr_EDUCA</th>\n",
       "      <th>xaccount_CRED_LIMIT</th>\n",
       "      <th>xaccount_addr_type</th>\n",
       "      <th>xaccount_ifautopay</th>\n",
       "      <th>xaccount_phonechange</th>\n",
       "      <th>xaccount_addrchange</th>\n",
       "      <th>...</th>\n",
       "      <th>bill_daylight_amt_STMT3roi</th>\n",
       "      <th>bill_daylight_amt_STMT6roi</th>\n",
       "      <th>bill_daylight_amt_STMT12roi</th>\n",
       "      <th>bill_outside_num_STMT3roi</th>\n",
       "      <th>bill_outside_num_STMT6roi</th>\n",
       "      <th>bill_outside_num_STMT12roi</th>\n",
       "      <th>bill_outside_amt_STMT3roi</th>\n",
       "      <th>bill_outside_amt_STMT6roi</th>\n",
       "      <th>bill_outside_amt_STMT12roi</th>\n",
       "      <th>target</th>\n",
       "    </tr>\n",
       "  </thead>\n",
       "  <tbody>\n",
       "    <tr>\n",
       "      <th>0</th>\n",
       "      <td>29</td>\n",
       "      <td>10</td>\n",
       "      <td>F</td>\n",
       "      <td>S</td>\n",
       "      <td>3</td>\n",
       "      <td>10000</td>\n",
       "      <td>B</td>\n",
       "      <td>0</td>\n",
       "      <td>0</td>\n",
       "      <td>0</td>\n",
       "      <td>...</td>\n",
       "      <td>0.015030</td>\n",
       "      <td>0.633457</td>\n",
       "      <td>0.374693</td>\n",
       "      <td>0.0</td>\n",
       "      <td>0.0</td>\n",
       "      <td>0.0</td>\n",
       "      <td>0.0</td>\n",
       "      <td>0.0</td>\n",
       "      <td>0.0</td>\n",
       "      <td>0</td>\n",
       "    </tr>\n",
       "    <tr>\n",
       "      <th>1</th>\n",
       "      <td>42</td>\n",
       "      <td>10</td>\n",
       "      <td>F</td>\n",
       "      <td>M</td>\n",
       "      <td>3</td>\n",
       "      <td>30000</td>\n",
       "      <td>B</td>\n",
       "      <td>0</td>\n",
       "      <td>0</td>\n",
       "      <td>757</td>\n",
       "      <td>...</td>\n",
       "      <td>1.000000</td>\n",
       "      <td>0.994900</td>\n",
       "      <td>0.920221</td>\n",
       "      <td>0.0</td>\n",
       "      <td>0.0</td>\n",
       "      <td>0.0</td>\n",
       "      <td>0.0</td>\n",
       "      <td>0.0</td>\n",
       "      <td>0.0</td>\n",
       "      <td>0</td>\n",
       "    </tr>\n",
       "    <tr>\n",
       "      <th>2</th>\n",
       "      <td>34</td>\n",
       "      <td>17</td>\n",
       "      <td>F</td>\n",
       "      <td>M</td>\n",
       "      <td>1</td>\n",
       "      <td>4000</td>\n",
       "      <td>B</td>\n",
       "      <td>0</td>\n",
       "      <td>0</td>\n",
       "      <td>0</td>\n",
       "      <td>...</td>\n",
       "      <td>0.552238</td>\n",
       "      <td>0.297945</td>\n",
       "      <td>0.451082</td>\n",
       "      <td>0.0</td>\n",
       "      <td>0.0</td>\n",
       "      <td>0.0</td>\n",
       "      <td>0.0</td>\n",
       "      <td>0.0</td>\n",
       "      <td>0.0</td>\n",
       "      <td>0</td>\n",
       "    </tr>\n",
       "    <tr>\n",
       "      <th>3</th>\n",
       "      <td>30</td>\n",
       "      <td>11</td>\n",
       "      <td>F</td>\n",
       "      <td>S</td>\n",
       "      <td>4</td>\n",
       "      <td>20000</td>\n",
       "      <td>B</td>\n",
       "      <td>0</td>\n",
       "      <td>0</td>\n",
       "      <td>0</td>\n",
       "      <td>...</td>\n",
       "      <td>-1.000000</td>\n",
       "      <td>0.999250</td>\n",
       "      <td>0.999250</td>\n",
       "      <td>-1.0</td>\n",
       "      <td>0.0</td>\n",
       "      <td>0.0</td>\n",
       "      <td>-1.0</td>\n",
       "      <td>0.0</td>\n",
       "      <td>0.0</td>\n",
       "      <td>0</td>\n",
       "    </tr>\n",
       "    <tr>\n",
       "      <th>4</th>\n",
       "      <td>39</td>\n",
       "      <td>27</td>\n",
       "      <td>M</td>\n",
       "      <td>M</td>\n",
       "      <td>2</td>\n",
       "      <td>8000</td>\n",
       "      <td>B</td>\n",
       "      <td>1</td>\n",
       "      <td>0</td>\n",
       "      <td>0</td>\n",
       "      <td>...</td>\n",
       "      <td>0.500432</td>\n",
       "      <td>0.750324</td>\n",
       "      <td>0.873109</td>\n",
       "      <td>0.0</td>\n",
       "      <td>0.0</td>\n",
       "      <td>0.0</td>\n",
       "      <td>0.0</td>\n",
       "      <td>0.0</td>\n",
       "      <td>0.0</td>\n",
       "      <td>0</td>\n",
       "    </tr>\n",
       "  </tbody>\n",
       "</table>\n",
       "<p>5 rows × 262 columns</p>\n",
       "</div>"
      ],
      "text/plain": [
       "   custr_age  custr_organ custr_gender custr_MAR_STATUS  custr_EDUCA  \\\n",
       "0         29           10            F                S            3   \n",
       "1         42           10            F                M            3   \n",
       "2         34           17            F                M            1   \n",
       "3         30           11            F                S            4   \n",
       "4         39           27            M                M            2   \n",
       "\n",
       "   xaccount_CRED_LIMIT xaccount_addr_type  xaccount_ifautopay  \\\n",
       "0                10000                  B                   0   \n",
       "1                30000                  B                   0   \n",
       "2                 4000                  B                   0   \n",
       "3                20000                  B                   0   \n",
       "4                 8000                  B                   1   \n",
       "\n",
       "   xaccount_phonechange  xaccount_addrchange   ...    \\\n",
       "0                     0                    0   ...     \n",
       "1                     0                  757   ...     \n",
       "2                     0                    0   ...     \n",
       "3                     0                    0   ...     \n",
       "4                     0                    0   ...     \n",
       "\n",
       "   bill_daylight_amt_STMT3roi bill_daylight_amt_STMT6roi  \\\n",
       "0                    0.015030                   0.633457   \n",
       "1                    1.000000                   0.994900   \n",
       "2                    0.552238                   0.297945   \n",
       "3                   -1.000000                   0.999250   \n",
       "4                    0.500432                   0.750324   \n",
       "\n",
       "   bill_daylight_amt_STMT12roi  bill_outside_num_STMT3roi  \\\n",
       "0                     0.374693                        0.0   \n",
       "1                     0.920221                        0.0   \n",
       "2                     0.451082                        0.0   \n",
       "3                     0.999250                       -1.0   \n",
       "4                     0.873109                        0.0   \n",
       "\n",
       "   bill_outside_num_STMT6roi  bill_outside_num_STMT12roi  \\\n",
       "0                        0.0                         0.0   \n",
       "1                        0.0                         0.0   \n",
       "2                        0.0                         0.0   \n",
       "3                        0.0                         0.0   \n",
       "4                        0.0                         0.0   \n",
       "\n",
       "   bill_outside_amt_STMT3roi  bill_outside_amt_STMT6roi  \\\n",
       "0                        0.0                        0.0   \n",
       "1                        0.0                        0.0   \n",
       "2                        0.0                        0.0   \n",
       "3                       -1.0                        0.0   \n",
       "4                        0.0                        0.0   \n",
       "\n",
       "   bill_outside_amt_STMT12roi  target  \n",
       "0                         0.0       0  \n",
       "1                         0.0       0  \n",
       "2                         0.0       0  \n",
       "3                         0.0       0  \n",
       "4                         0.0       0  \n",
       "\n",
       "[5 rows x 262 columns]"
      ]
     },
     "execution_count": 15,
     "metadata": {},
     "output_type": "execute_result"
    }
   ],
   "source": [
    "data.head(5)"
   ]
  },
  {
   "cell_type": "code",
   "execution_count": 16,
   "metadata": {
    "collapsed": false
   },
   "outputs": [
    {
     "name": "stdout",
     "output_type": "stream",
     "text": [
      "<class 'pandas.core.frame.DataFrame'>\n",
      "RangeIndex: 148077 entries, 0 to 148076\n",
      "Columns: 262 entries, custr_age to target\n",
      "dtypes: float64(152), int64(104), object(6)\n",
      "memory usage: 296.0+ MB\n"
     ]
    }
   ],
   "source": [
    "data.info()"
   ]
  },
  {
   "cell_type": "code",
   "execution_count": 17,
   "metadata": {
    "collapsed": false
   },
   "outputs": [
    {
     "data": {
      "text/html": [
       "<div>\n",
       "<table border=\"1\" class=\"dataframe\">\n",
       "  <thead>\n",
       "    <tr style=\"text-align: right;\">\n",
       "      <th></th>\n",
       "      <th>custr_age</th>\n",
       "      <th>custr_organ</th>\n",
       "      <th>custr_EDUCA</th>\n",
       "      <th>xaccount_CRED_LIMIT</th>\n",
       "      <th>xaccount_ifautopay</th>\n",
       "      <th>xaccount_phonechange</th>\n",
       "      <th>xaccount_addrchange</th>\n",
       "      <th>xaccount_empchange</th>\n",
       "      <th>xaccount_max_tranamt</th>\n",
       "      <th>xaccount_max_billamt</th>\n",
       "      <th>...</th>\n",
       "      <th>bill_daylight_amt_STMT3roi</th>\n",
       "      <th>bill_daylight_amt_STMT6roi</th>\n",
       "      <th>bill_daylight_amt_STMT12roi</th>\n",
       "      <th>bill_outside_num_STMT3roi</th>\n",
       "      <th>bill_outside_num_STMT6roi</th>\n",
       "      <th>bill_outside_num_STMT12roi</th>\n",
       "      <th>bill_outside_amt_STMT3roi</th>\n",
       "      <th>bill_outside_amt_STMT6roi</th>\n",
       "      <th>bill_outside_amt_STMT12roi</th>\n",
       "      <th>target</th>\n",
       "    </tr>\n",
       "  </thead>\n",
       "  <tbody>\n",
       "    <tr>\n",
       "      <th>count</th>\n",
       "      <td>148077.000000</td>\n",
       "      <td>148077.000000</td>\n",
       "      <td>148077.000000</td>\n",
       "      <td>148077.000000</td>\n",
       "      <td>148077.000000</td>\n",
       "      <td>148077.000000</td>\n",
       "      <td>148077.000000</td>\n",
       "      <td>148077.000000</td>\n",
       "      <td>1.480770e+05</td>\n",
       "      <td>1.480770e+05</td>\n",
       "      <td>...</td>\n",
       "      <td>148077.000000</td>\n",
       "      <td>148077.000000</td>\n",
       "      <td>148077.000000</td>\n",
       "      <td>148077.000000</td>\n",
       "      <td>148077.000000</td>\n",
       "      <td>148077.000000</td>\n",
       "      <td>148077.000000</td>\n",
       "      <td>148077.000000</td>\n",
       "      <td>148077.000000</td>\n",
       "      <td>148077.000000</td>\n",
       "    </tr>\n",
       "    <tr>\n",
       "      <th>mean</th>\n",
       "      <td>37.296028</td>\n",
       "      <td>16.132897</td>\n",
       "      <td>2.918731</td>\n",
       "      <td>21829.781769</td>\n",
       "      <td>0.349183</td>\n",
       "      <td>34.634569</td>\n",
       "      <td>52.745970</td>\n",
       "      <td>13.813219</td>\n",
       "      <td>2.673810e+04</td>\n",
       "      <td>2.583063e+04</td>\n",
       "      <td>...</td>\n",
       "      <td>0.451881</td>\n",
       "      <td>0.568147</td>\n",
       "      <td>0.659244</td>\n",
       "      <td>-0.130705</td>\n",
       "      <td>-0.063336</td>\n",
       "      <td>-0.018148</td>\n",
       "      <td>-0.130497</td>\n",
       "      <td>-0.063007</td>\n",
       "      <td>-0.017705</td>\n",
       "      <td>0.027452</td>\n",
       "    </tr>\n",
       "    <tr>\n",
       "      <th>std</th>\n",
       "      <td>8.626085</td>\n",
       "      <td>8.234340</td>\n",
       "      <td>1.060267</td>\n",
       "      <td>36876.303042</td>\n",
       "      <td>0.476714</td>\n",
       "      <td>155.747779</td>\n",
       "      <td>171.841082</td>\n",
       "      <td>114.861911</td>\n",
       "      <td>6.658744e+04</td>\n",
       "      <td>5.555255e+04</td>\n",
       "      <td>...</td>\n",
       "      <td>0.646932</td>\n",
       "      <td>0.502476</td>\n",
       "      <td>0.350669</td>\n",
       "      <td>0.344473</td>\n",
       "      <td>0.254730</td>\n",
       "      <td>0.153651</td>\n",
       "      <td>0.345172</td>\n",
       "      <td>0.255758</td>\n",
       "      <td>0.155344</td>\n",
       "      <td>0.163397</td>\n",
       "    </tr>\n",
       "    <tr>\n",
       "      <th>min</th>\n",
       "      <td>20.000000</td>\n",
       "      <td>10.000000</td>\n",
       "      <td>1.000000</td>\n",
       "      <td>0.000000</td>\n",
       "      <td>0.000000</td>\n",
       "      <td>-296.000000</td>\n",
       "      <td>-352.000000</td>\n",
       "      <td>-286.000000</td>\n",
       "      <td>0.000000e+00</td>\n",
       "      <td>0.000000e+00</td>\n",
       "      <td>...</td>\n",
       "      <td>-1.000000</td>\n",
       "      <td>-1.000000</td>\n",
       "      <td>-1.000000</td>\n",
       "      <td>-1.000000</td>\n",
       "      <td>-1.000000</td>\n",
       "      <td>-1.000000</td>\n",
       "      <td>-1.000000</td>\n",
       "      <td>-1.000000</td>\n",
       "      <td>-1.000000</td>\n",
       "      <td>0.000000</td>\n",
       "    </tr>\n",
       "    <tr>\n",
       "      <th>25%</th>\n",
       "      <td>30.000000</td>\n",
       "      <td>11.000000</td>\n",
       "      <td>2.000000</td>\n",
       "      <td>10000.000000</td>\n",
       "      <td>0.000000</td>\n",
       "      <td>0.000000</td>\n",
       "      <td>0.000000</td>\n",
       "      <td>0.000000</td>\n",
       "      <td>6.000000e+03</td>\n",
       "      <td>5.915000e+03</td>\n",
       "      <td>...</td>\n",
       "      <td>0.222899</td>\n",
       "      <td>0.433187</td>\n",
       "      <td>0.531015</td>\n",
       "      <td>0.000000</td>\n",
       "      <td>0.000000</td>\n",
       "      <td>0.000000</td>\n",
       "      <td>0.000000</td>\n",
       "      <td>0.000000</td>\n",
       "      <td>0.000000</td>\n",
       "      <td>0.000000</td>\n",
       "    </tr>\n",
       "    <tr>\n",
       "      <th>50%</th>\n",
       "      <td>36.000000</td>\n",
       "      <td>15.000000</td>\n",
       "      <td>3.000000</td>\n",
       "      <td>14000.000000</td>\n",
       "      <td>0.000000</td>\n",
       "      <td>0.000000</td>\n",
       "      <td>0.000000</td>\n",
       "      <td>0.000000</td>\n",
       "      <td>1.252480e+04</td>\n",
       "      <td>1.213580e+04</td>\n",
       "      <td>...</td>\n",
       "      <td>0.672886</td>\n",
       "      <td>0.705468</td>\n",
       "      <td>0.733672</td>\n",
       "      <td>0.000000</td>\n",
       "      <td>0.000000</td>\n",
       "      <td>0.000000</td>\n",
       "      <td>0.000000</td>\n",
       "      <td>0.000000</td>\n",
       "      <td>0.000000</td>\n",
       "      <td>0.000000</td>\n",
       "    </tr>\n",
       "    <tr>\n",
       "      <th>75%</th>\n",
       "      <td>44.000000</td>\n",
       "      <td>19.000000</td>\n",
       "      <td>4.000000</td>\n",
       "      <td>25000.000000</td>\n",
       "      <td>1.000000</td>\n",
       "      <td>0.000000</td>\n",
       "      <td>0.000000</td>\n",
       "      <td>0.000000</td>\n",
       "      <td>2.905001e+04</td>\n",
       "      <td>2.872600e+04</td>\n",
       "      <td>...</td>\n",
       "      <td>0.969437</td>\n",
       "      <td>0.924536</td>\n",
       "      <td>0.896707</td>\n",
       "      <td>0.000000</td>\n",
       "      <td>0.000000</td>\n",
       "      <td>0.000000</td>\n",
       "      <td>0.000000</td>\n",
       "      <td>0.000000</td>\n",
       "      <td>0.000000</td>\n",
       "      <td>0.000000</td>\n",
       "    </tr>\n",
       "    <tr>\n",
       "      <th>max</th>\n",
       "      <td>70.000000</td>\n",
       "      <td>99.000000</td>\n",
       "      <td>7.000000</td>\n",
       "      <td>1000000.000000</td>\n",
       "      <td>1.000000</td>\n",
       "      <td>2201.000000</td>\n",
       "      <td>1460.000000</td>\n",
       "      <td>2292.000000</td>\n",
       "      <td>6.998806e+06</td>\n",
       "      <td>4.099999e+06</td>\n",
       "      <td>...</td>\n",
       "      <td>1.000000</td>\n",
       "      <td>1.000000</td>\n",
       "      <td>1.000000</td>\n",
       "      <td>1.000000</td>\n",
       "      <td>1.000000</td>\n",
       "      <td>1.000000</td>\n",
       "      <td>1.000000</td>\n",
       "      <td>1.000000</td>\n",
       "      <td>1.000000</td>\n",
       "      <td>1.000000</td>\n",
       "    </tr>\n",
       "  </tbody>\n",
       "</table>\n",
       "<p>8 rows × 256 columns</p>\n",
       "</div>"
      ],
      "text/plain": [
       "           custr_age    custr_organ    custr_EDUCA  xaccount_CRED_LIMIT  \\\n",
       "count  148077.000000  148077.000000  148077.000000        148077.000000   \n",
       "mean       37.296028      16.132897       2.918731         21829.781769   \n",
       "std         8.626085       8.234340       1.060267         36876.303042   \n",
       "min        20.000000      10.000000       1.000000             0.000000   \n",
       "25%        30.000000      11.000000       2.000000         10000.000000   \n",
       "50%        36.000000      15.000000       3.000000         14000.000000   \n",
       "75%        44.000000      19.000000       4.000000         25000.000000   \n",
       "max        70.000000      99.000000       7.000000       1000000.000000   \n",
       "\n",
       "       xaccount_ifautopay  xaccount_phonechange  xaccount_addrchange  \\\n",
       "count       148077.000000         148077.000000        148077.000000   \n",
       "mean             0.349183             34.634569            52.745970   \n",
       "std              0.476714            155.747779           171.841082   \n",
       "min              0.000000           -296.000000          -352.000000   \n",
       "25%              0.000000              0.000000             0.000000   \n",
       "50%              0.000000              0.000000             0.000000   \n",
       "75%              1.000000              0.000000             0.000000   \n",
       "max              1.000000           2201.000000          1460.000000   \n",
       "\n",
       "       xaccount_empchange  xaccount_max_tranamt  xaccount_max_billamt  \\\n",
       "count       148077.000000          1.480770e+05          1.480770e+05   \n",
       "mean            13.813219          2.673810e+04          2.583063e+04   \n",
       "std            114.861911          6.658744e+04          5.555255e+04   \n",
       "min           -286.000000          0.000000e+00          0.000000e+00   \n",
       "25%              0.000000          6.000000e+03          5.915000e+03   \n",
       "50%              0.000000          1.252480e+04          1.213580e+04   \n",
       "75%              0.000000          2.905001e+04          2.872600e+04   \n",
       "max           2292.000000          6.998806e+06          4.099999e+06   \n",
       "\n",
       "           ...        bill_daylight_amt_STMT3roi  bill_daylight_amt_STMT6roi  \\\n",
       "count      ...                     148077.000000               148077.000000   \n",
       "mean       ...                          0.451881                    0.568147   \n",
       "std        ...                          0.646932                    0.502476   \n",
       "min        ...                         -1.000000                   -1.000000   \n",
       "25%        ...                          0.222899                    0.433187   \n",
       "50%        ...                          0.672886                    0.705468   \n",
       "75%        ...                          0.969437                    0.924536   \n",
       "max        ...                          1.000000                    1.000000   \n",
       "\n",
       "       bill_daylight_amt_STMT12roi  bill_outside_num_STMT3roi  \\\n",
       "count                148077.000000              148077.000000   \n",
       "mean                      0.659244                  -0.130705   \n",
       "std                       0.350669                   0.344473   \n",
       "min                      -1.000000                  -1.000000   \n",
       "25%                       0.531015                   0.000000   \n",
       "50%                       0.733672                   0.000000   \n",
       "75%                       0.896707                   0.000000   \n",
       "max                       1.000000                   1.000000   \n",
       "\n",
       "       bill_outside_num_STMT6roi  bill_outside_num_STMT12roi  \\\n",
       "count              148077.000000               148077.000000   \n",
       "mean                   -0.063336                   -0.018148   \n",
       "std                     0.254730                    0.153651   \n",
       "min                    -1.000000                   -1.000000   \n",
       "25%                     0.000000                    0.000000   \n",
       "50%                     0.000000                    0.000000   \n",
       "75%                     0.000000                    0.000000   \n",
       "max                     1.000000                    1.000000   \n",
       "\n",
       "       bill_outside_amt_STMT3roi  bill_outside_amt_STMT6roi  \\\n",
       "count              148077.000000              148077.000000   \n",
       "mean                   -0.130497                  -0.063007   \n",
       "std                     0.345172                   0.255758   \n",
       "min                    -1.000000                  -1.000000   \n",
       "25%                     0.000000                   0.000000   \n",
       "50%                     0.000000                   0.000000   \n",
       "75%                     0.000000                   0.000000   \n",
       "max                     1.000000                   1.000000   \n",
       "\n",
       "       bill_outside_amt_STMT12roi         target  \n",
       "count               148077.000000  148077.000000  \n",
       "mean                    -0.017705       0.027452  \n",
       "std                      0.155344       0.163397  \n",
       "min                     -1.000000       0.000000  \n",
       "25%                      0.000000       0.000000  \n",
       "50%                      0.000000       0.000000  \n",
       "75%                      0.000000       0.000000  \n",
       "max                      1.000000       1.000000  \n",
       "\n",
       "[8 rows x 256 columns]"
      ]
     },
     "execution_count": 17,
     "metadata": {},
     "output_type": "execute_result"
    }
   ],
   "source": [
    "data.describe()"
   ]
  },
  {
   "cell_type": "code",
   "execution_count": 27,
   "metadata": {
    "collapsed": true
   },
   "outputs": [],
   "source": [
    "data_train = data.iloc[:,:-1]\n",
    "data_target = data.iloc[:,-1:]\n",
    "target = [x[0] for x in data_target.values]"
   ]
  },
  {
   "cell_type": "code",
   "execution_count": 45,
   "metadata": {
    "collapsed": false,
    "scrolled": true
   },
   "outputs": [
    {
     "data": {
      "text/plain": [
       "Counter({0: 144012, 1: 4065})"
      ]
     },
     "execution_count": 45,
     "metadata": {},
     "output_type": "execute_result"
    }
   ],
   "source": [
    "# 统计正负样本数，可以看到，正负样本数极不平衡\n",
    "Counter([x[0] for x in data_target.values])"
   ]
  },
  {
   "cell_type": "markdown",
   "metadata": {},
   "source": [
    "## 处理缺失值"
   ]
  },
  {
   "cell_type": "code",
   "execution_count": 28,
   "metadata": {
    "collapsed": false
   },
   "outputs": [],
   "source": [
    "index = np.where(variable.iloc[2:,6] > 0.5)   # 原始数据缺失率超过50%的数据的index\n",
    "Drop_features = data_train.columns.values[index]\n",
    "data_train = data_train.drop(Drop_features,axis=1)"
   ]
  },
  {
   "cell_type": "markdown",
   "metadata": {},
   "source": [
    "## 特征向量化"
   ]
  },
  {
   "cell_type": "code",
   "execution_count": 29,
   "metadata": {
    "collapsed": false
   },
   "outputs": [],
   "source": [
    "le = LabelEncoder()\n",
    "enc = OneHotEncoder(sparse=False)\n",
    "\n",
    "for feature in ['custr_EDUCA','bill_num_curver','bill_amt_curver']:  # 需要进行整数编码的特征\n",
    "    data_train[feature] = le.fit_transform(data_train[feature])   \n",
    "    \n",
    "for feature in ['custr_organ','custr_gender','custr_MAR_STATUS','xaccount_addr_type','xaccount_ifautopay','xaccount_CON_REL']:\n",
    "# for feature in ['custr_organ']:\n",
    "    # 需要进行One-Hot编码的特征\n",
    "    a = le.fit_transform(data_train[feature])\n",
    "    b = enc.fit_transform(a.reshape(-1,1))\n",
    "    columns = []\n",
    "    for i in range(b.shape[1]):\n",
    "        columns.append(feature+'_'+str(i))\n",
    "    df = pd.DataFrame(b,columns=columns)  # One-Hot编码的同时保留列的名称\n",
    "    data_train = pd.concat([data_train,df],axis=1)\n",
    "    data_train = data_train.drop([feature],axis=1)"
   ]
  },
  {
   "cell_type": "markdown",
   "metadata": {},
   "source": [
    "## 数据归一化"
   ]
  },
  {
   "cell_type": "code",
   "execution_count": 30,
   "metadata": {
    "collapsed": false
   },
   "outputs": [],
   "source": [
    "scaler = MinMaxScaler()\n",
    "data_train = pd.DataFrame(scaler.fit_transform(data_train),columns=data_train.columns)"
   ]
  },
  {
   "cell_type": "markdown",
   "metadata": {
    "collapsed": false
   },
   "source": [
    "# 特征工程\n",
    "\n",
    "使用多种方法来确定特征的重要性，每次使用的方法都是以全部的特征项来进行的，以此来比对不同的方法选出的特征的异同"
   ]
  },
  {
   "cell_type": "markdown",
   "metadata": {
    "collapsed": true
   },
   "source": [
    "## 过滤法"
   ]
  },
  {
   "cell_type": "markdown",
   "metadata": {},
   "source": [
    "### 方差选择法"
   ]
  },
  {
   "cell_type": "code",
   "execution_count": 72,
   "metadata": {
    "collapsed": false,
    "scrolled": true
   },
   "outputs": [],
   "source": [
    "# 将数据中方差小于0.05的特征项删除掉\n",
    "for feature in data_train.columns:\n",
    "    if np.var(data_train[feature]) < 0.05:\n",
    "        data_train_new = data_train.drop([feature],axis=1)"
   ]
  },
  {
   "cell_type": "code",
   "execution_count": 73,
   "metadata": {
    "collapsed": false,
    "scrolled": true
   },
   "outputs": [
    {
     "data": {
      "text/plain": [
       "Index(['xaccount_stmtnum', 'xaccount_month', 'TRAN_NOW_NUMMONRIO',\n",
       "       'TRAN_STMT3_NUMMONRIO', 'TRAN_STMT6_NUMMONRIO', 'TRAN_STMT12_NUMMONRIO',\n",
       "       'tran_num_STMT1roi', 'tran_num_STMT3roi', 'tran_num_STMT6roi',\n",
       "       'tran_num_STMT12roi', 'tran_mpamortize_num_STMT1roi',\n",
       "       'tran_mpamortize_num_STMT3roi', 'tran_mpamortize_num_STMT6roi',\n",
       "       'tran_mpamortize_num_STMT12roi', 'mpif_stmt_amt_STMT3roi',\n",
       "       'mpif_stmt_amt_STMT6roi', 'mpif_stmt_amt_STMT12roi', 'PAYM_NOW_BILLRIO',\n",
       "       'PAYM_STMT3_BILLRIO', 'PAYM_STMT6_BILLRIO', 'PAYM_NOW_CASHRIO',\n",
       "       'PAYM_NOW_AUTORIO', 'PAYM_STMT3_AUTORIO', 'bill_num_curver',\n",
       "       'bill_amt_curver', 'bill_dlv_amt_STMT1billrio',\n",
       "       'bill_dlv_amt_STMT3billrio', 'bill_dlv_amt_STMT6billrio',\n",
       "       'bill_hcrd_amt_STMT1billrio', 'bill_hcrd_amt_STMT3billrio',\n",
       "       'bill_hcrd_amt_STMT6billrio', 'bill_wsale_amt_STMT1billrio',\n",
       "       'bill_wsale_amt_STMT3billrio', 'bill_wsale_amt_STMT6billrio',\n",
       "       'bill_net_amt_STMT1billrio', 'bill_net_amt_STMT3billrio',\n",
       "       'bill_net_amt_STMT6billrio', 'bill_num_STMT1roi', 'bill_num_STMT3roi',\n",
       "       'bill_num_STMT6roi', 'bill_num_STMT12roi', 'bill_daylight_num_STMT3roi',\n",
       "       'bill_daylight_num_STMT6roi', 'bill_daylight_amt_STMT3roi',\n",
       "       'bill_daylight_amt_STMT6roi', 'custr_organ_0', 'custr_organ_1',\n",
       "       'custr_organ_2', 'custr_organ_3', 'custr_organ_4', 'custr_organ_5',\n",
       "       'custr_organ_6', 'custr_organ_7', 'custr_organ_9', 'custr_gender_0',\n",
       "       'custr_gender_1', 'custr_MAR_STATUS_0', 'custr_MAR_STATUS_2',\n",
       "       'xaccount_addr_type_0', 'xaccount_addr_type_2', 'xaccount_ifautopay_0',\n",
       "       'xaccount_ifautopay_1', 'xaccount_CON_REL_4', 'xaccount_CON_REL_5',\n",
       "       'xaccount_CON_REL_7'],\n",
       "      dtype='object')"
      ]
     },
     "execution_count": 73,
     "metadata": {},
     "output_type": "execute_result"
    }
   ],
   "source": [
    "data_train_new.columns"
   ]
  },
  {
   "cell_type": "markdown",
   "metadata": {},
   "source": [
    "### 相关系数法"
   ]
  },
  {
   "cell_type": "code",
   "execution_count": 115,
   "metadata": {
    "collapsed": false
   },
   "outputs": [],
   "source": [
    "# 计算特征与目标变量的皮尔孙相关系数和P值\n",
    "#   1）输入：x为特征，y为目标变量.\n",
    "#   2）输出：r： 相关系数 [-1，1]之间，p-value: p值。\n",
    "#      注： p值越小，表示相关系数越显著，一般p值在500个样本以上时有较高的可靠性。\n",
    "for feature in data_train.columns:\n",
    "    p = pearsonr(data_train[feature].values,target)\n",
    "    if abs(p[0]) < 0.2:  # 选择相关系数大于0.2的特征\n",
    "        data_train_new = data_train.drop([feature],axis=1)"
   ]
  },
  {
   "cell_type": "code",
   "execution_count": 116,
   "metadata": {
    "collapsed": false
   },
   "outputs": [
    {
     "data": {
      "text/plain": [
       "Index(['card_active_ratio', 'bill_dlv_num_STMT1', 'bill_dlv_num_STMT3',\n",
       "       'bill_dlv_num_STMT6', 'bill_dlv_num_STMT12', 'bill_dlv_amt_STMT1',\n",
       "       'bill_dlv_amt_STMT3', 'bill_dlv_amt_STMT6', 'bill_dlv_amt_STMT12',\n",
       "       'bill_hcrd_amt_STMT1', 'bill_hcrd_amt_STMT3', 'bill_hcrd_amt_STMT6',\n",
       "       'bill_hcrd_amt_STMT12', 'bill_wsale_amt_STMT1', 'bill_wsale_amt_STMT3',\n",
       "       'bill_wsale_amt_STMT6', 'bill_wsale_amt_STMT12'],\n",
       "      dtype='object')"
      ]
     },
     "execution_count": 116,
     "metadata": {},
     "output_type": "execute_result"
    }
   ],
   "source": [
    "data_train_new.columns"
   ]
  },
  {
   "cell_type": "markdown",
   "metadata": {},
   "source": [
    "### 卡方检验"
   ]
  },
  {
   "cell_type": "code",
   "execution_count": 130,
   "metadata": {
    "collapsed": false,
    "scrolled": true
   },
   "outputs": [
    {
     "data": {
      "text/plain": [
       "array([[11,  0,  2,  0],\n",
       "       [37,  0,  0,  0],\n",
       "       [24,  0,  0,  0],\n",
       "       ...,\n",
       "       [13,  1,  0,  0],\n",
       "       [24,  0,  0,  0],\n",
       "       [ 6,  1,  0,  0]], dtype=int64)"
      ]
     },
     "execution_count": 130,
     "metadata": {},
     "output_type": "execute_result"
    }
   ],
   "source": [
    "# sklearn 里面的卡方检验貌似不支持字符串的形式，需要先将字符串的数据进行整数编码\n",
    "for feature in ['custr_EDUCA','bill_num_curver','bill_amt_curver','custr_organ','custr_gender','custr_MAR_STATUS',\\\n",
    "             'xaccount_addr_type','xaccount_ifautopay','xaccount_CON_REL']:  # 需要进行整数编码的特征\n",
    "    data_train[feature] = le.fit_transform(data_train[feature]) \n",
    "    \n",
    "data_discrete = data_train[['custr_EDUCA','bill_num_curver','bill_amt_curver','custr_organ','custr_gender','custr_MAR_STATUS',\\\n",
    "             'xaccount_addr_type','xaccount_ifautopay','xaccount_CON_REL']]\n",
    "model1 = SelectKBest(chi2, k=4)\n",
    "model1.fit_transform(data_discrete.values, target)"
   ]
  },
  {
   "cell_type": "code",
   "execution_count": 134,
   "metadata": {
    "collapsed": false
   },
   "outputs": [
    {
     "name": "stdout",
     "output_type": "stream",
     "text": [
      "卡方： [127.81215292  72.68949933 673.62208695   0.88902185 192.42490188\n",
      " 174.51935837  19.55142419 157.59680633  24.53514709]\n",
      "P-value [1.23385390e-029 1.51739310e-017 1.62896569e-148 3.45742514e-001\n",
      " 9.39819676e-044 7.62372563e-040 9.79277048e-006 3.79089148e-036\n",
      " 7.29666292e-007]\n"
     ]
    }
   ],
   "source": [
    "print('卡方：',model1.scores_)\n",
    "print('P-value:',model1.pvalues_)"
   ]
  },
  {
   "cell_type": "markdown",
   "metadata": {},
   "source": [
    "可以得出，在字符数据中，与目标变量相关性比较高的有['bill_amt_curver','custr_gender','custr_MAR_STATUS','custr_EDUCA','xaccount_ifautopay']"
   ]
  },
  {
   "cell_type": "markdown",
   "metadata": {},
   "source": [
    "## Wrapper"
   ]
  },
  {
   "cell_type": "markdown",
   "metadata": {},
   "source": [
    "### 递归特征消除法\n",
    "通过选择一个基模型，每轮训练后，消除一定系数权重的特征，然后选择新的一批特征进行训练\n"
   ]
  },
  {
   "cell_type": "code",
   "execution_count": null,
   "metadata": {
    "collapsed": true
   },
   "outputs": [],
   "source": [
    "#递归特征消除法，返回特征选择后的数据\n",
    "#参数estimator为基模型\n",
    "#参数n_features_to_select为选择的特征个数\n",
    "RFE(estimator=LogisticRegression(penalty='l2'), n_features_to_select=50).fit_transform(data_train.values, target)"
   ]
  },
  {
   "cell_type": "markdown",
   "metadata": {},
   "source": [
    "## Embedded"
   ]
  },
  {
   "cell_type": "markdown",
   "metadata": {},
   "source": [
    "### 基于惩罚项的特征选择法"
   ]
  },
  {
   "cell_type": "code",
   "execution_count": null,
   "metadata": {
    "collapsed": true
   },
   "outputs": [],
   "source": [
    "SelectFromModel(LogisticRegression(penalty=\"l1\", C=0.1)).fit_transform(data_train.values, target)"
   ]
  },
  {
   "cell_type": "markdown",
   "metadata": {},
   "source": [
    "### 基于树模型的特征选择法"
   ]
  },
  {
   "cell_type": "code",
   "execution_count": 168,
   "metadata": {
    "collapsed": false
   },
   "outputs": [
    {
     "name": "stdout",
     "output_type": "stream",
     "text": [
      "Index(['xaccount_CRED_LIMIT', 'TRAN_NOW_RIO', 'TRAN_STMT6_AMT', 'PAYM_NOW_AMT',\n",
      "       'xaccount_month', 'PAYM_STMT3_RIO', 'TRAN_STMT12_RIO',\n",
      "       'TRAN_NOW_NUMMONRIO', 'xaccount_stmtnum', 'TRAN_STMT3_RIO',\n",
      "       'TRAN_STMT6_RIO', 'bill_amt_STMT1', 'TRAN_STMT3_AMTMONRIO',\n",
      "       'TRAN_STMT3_NUM', 'PAYM_STMT3_NUM', 'PAYM_STMT12_RIO',\n",
      "       'tran_cyclenum_STMT12', 'tran_mpamortize_num_STMT6',\n",
      "       'xaccount_max_cashlamt', 'xaccount_credlimitnum', 'tran_balavg_STMT6',\n",
      "       'CASH_NOW_LIMITRIO', 'bill_amt_STMT3', 'CASH_NOW_TRANRIO',\n",
      "       'TRAN_NOW_NUM', 'TRAN_STMT3_OVERAMT', 'bill_amt_STMT6',\n",
      "       'tran_mpamortize_num_STMT3', 'CASH_STMT3_LIMITRIO',\n",
      "       'tran_mpamortize_num_STMT3roi', 'tran_amt_STMT6', 'PAYM_STMT6_RIO',\n",
      "       'tran_cyclenum_STMT6', 'CASH_STMT12_TRANRIO', 'CASH_STMT12_NUM',\n",
      "       'TRAN_STMT3_NUMMONRIO', 'CASH_STMT3_TRANRIO', 'CASH_STMT12_LIMITRIO',\n",
      "       'mpif_stmt_amt_STMT1', 'mpif_amt_STMT1', 'card_day_diff',\n",
      "       'xaccount_max_billamt', 'PAYM_STMT6_NUM', 'CASH_NOW_AMT',\n",
      "       'CASH_STMT6_LIMITRIO', 'bill_net_amt_STMT6', 'CASH_STMT3_NUM',\n",
      "       'xaccount_credlimitrenum', 'mpif_stmt_num_STMT6', 'mpif_amt_STMT3'],\n",
      "      dtype='object')\n"
     ]
    }
   ],
   "source": [
    "#GBDT作为基模型的特征选择\n",
    "model = GradientBoostingClassifier().fit(data_train.values, target)\n",
    "index = np.argsort(-model.feature_importances_)\n",
    "print(data_train.columns[index[:50]])"
   ]
  },
  {
   "cell_type": "markdown",
   "metadata": {},
   "source": [
    "### 降维"
   ]
  },
  {
   "cell_type": "markdown",
   "metadata": {},
   "source": [
    "#### 主成分分析法（PCA）"
   ]
  },
  {
   "cell_type": "code",
   "execution_count": 25,
   "metadata": {
    "collapsed": false,
    "scrolled": true
   },
   "outputs": [
    {
     "data": {
      "text/html": [
       "<div>\n",
       "<table border=\"1\" class=\"dataframe\">\n",
       "  <thead>\n",
       "    <tr style=\"text-align: right;\">\n",
       "      <th></th>\n",
       "      <th>0</th>\n",
       "      <th>1</th>\n",
       "      <th>2</th>\n",
       "      <th>3</th>\n",
       "      <th>4</th>\n",
       "      <th>5</th>\n",
       "      <th>6</th>\n",
       "      <th>7</th>\n",
       "      <th>8</th>\n",
       "      <th>9</th>\n",
       "      <th>...</th>\n",
       "      <th>40</th>\n",
       "      <th>41</th>\n",
       "      <th>42</th>\n",
       "      <th>43</th>\n",
       "      <th>44</th>\n",
       "      <th>45</th>\n",
       "      <th>46</th>\n",
       "      <th>47</th>\n",
       "      <th>48</th>\n",
       "      <th>49</th>\n",
       "    </tr>\n",
       "  </thead>\n",
       "  <tbody>\n",
       "    <tr>\n",
       "      <th>0</th>\n",
       "      <td>-0.645008</td>\n",
       "      <td>-0.532237</td>\n",
       "      <td>1.535664</td>\n",
       "      <td>0.612715</td>\n",
       "      <td>-0.172372</td>\n",
       "      <td>0.213141</td>\n",
       "      <td>-0.137333</td>\n",
       "      <td>0.032642</td>\n",
       "      <td>-0.004786</td>\n",
       "      <td>-0.396676</td>\n",
       "      <td>...</td>\n",
       "      <td>-0.022264</td>\n",
       "      <td>0.015787</td>\n",
       "      <td>0.018501</td>\n",
       "      <td>0.039733</td>\n",
       "      <td>-0.057091</td>\n",
       "      <td>-0.005906</td>\n",
       "      <td>-0.077796</td>\n",
       "      <td>0.100756</td>\n",
       "      <td>0.049212</td>\n",
       "      <td>0.219702</td>\n",
       "    </tr>\n",
       "    <tr>\n",
       "      <th>1</th>\n",
       "      <td>-0.112836</td>\n",
       "      <td>-0.713976</td>\n",
       "      <td>0.319340</td>\n",
       "      <td>-0.948703</td>\n",
       "      <td>-1.101873</td>\n",
       "      <td>1.124373</td>\n",
       "      <td>0.232148</td>\n",
       "      <td>-0.125393</td>\n",
       "      <td>0.382938</td>\n",
       "      <td>0.473532</td>\n",
       "      <td>...</td>\n",
       "      <td>-0.044949</td>\n",
       "      <td>0.016920</td>\n",
       "      <td>0.011122</td>\n",
       "      <td>0.013201</td>\n",
       "      <td>-0.031874</td>\n",
       "      <td>0.013916</td>\n",
       "      <td>-0.009799</td>\n",
       "      <td>-0.001309</td>\n",
       "      <td>-0.001425</td>\n",
       "      <td>-0.000539</td>\n",
       "    </tr>\n",
       "    <tr>\n",
       "      <th>2</th>\n",
       "      <td>0.463935</td>\n",
       "      <td>1.088251</td>\n",
       "      <td>-0.076248</td>\n",
       "      <td>-0.645303</td>\n",
       "      <td>-1.116739</td>\n",
       "      <td>1.160837</td>\n",
       "      <td>-0.151011</td>\n",
       "      <td>-0.123391</td>\n",
       "      <td>-0.325465</td>\n",
       "      <td>0.716722</td>\n",
       "      <td>...</td>\n",
       "      <td>-0.145031</td>\n",
       "      <td>0.156465</td>\n",
       "      <td>0.101947</td>\n",
       "      <td>-0.004539</td>\n",
       "      <td>-0.040461</td>\n",
       "      <td>-0.039013</td>\n",
       "      <td>-0.053158</td>\n",
       "      <td>0.050772</td>\n",
       "      <td>-0.118021</td>\n",
       "      <td>0.016941</td>\n",
       "    </tr>\n",
       "    <tr>\n",
       "      <th>3</th>\n",
       "      <td>2.541094</td>\n",
       "      <td>0.030518</td>\n",
       "      <td>1.569609</td>\n",
       "      <td>0.309201</td>\n",
       "      <td>-0.403689</td>\n",
       "      <td>0.597137</td>\n",
       "      <td>-0.924992</td>\n",
       "      <td>0.022534</td>\n",
       "      <td>1.396777</td>\n",
       "      <td>-1.541283</td>\n",
       "      <td>...</td>\n",
       "      <td>-0.015616</td>\n",
       "      <td>-0.050454</td>\n",
       "      <td>-0.020156</td>\n",
       "      <td>0.259522</td>\n",
       "      <td>-0.232093</td>\n",
       "      <td>-0.024845</td>\n",
       "      <td>-0.009429</td>\n",
       "      <td>0.062350</td>\n",
       "      <td>0.029527</td>\n",
       "      <td>0.065995</td>\n",
       "    </tr>\n",
       "    <tr>\n",
       "      <th>4</th>\n",
       "      <td>0.053419</td>\n",
       "      <td>-0.839811</td>\n",
       "      <td>-0.585378</td>\n",
       "      <td>1.132941</td>\n",
       "      <td>0.112841</td>\n",
       "      <td>-0.615746</td>\n",
       "      <td>-1.384223</td>\n",
       "      <td>-0.472093</td>\n",
       "      <td>0.136191</td>\n",
       "      <td>-0.075536</td>\n",
       "      <td>...</td>\n",
       "      <td>0.038951</td>\n",
       "      <td>0.147759</td>\n",
       "      <td>0.163356</td>\n",
       "      <td>0.520270</td>\n",
       "      <td>0.655772</td>\n",
       "      <td>-0.371871</td>\n",
       "      <td>-0.173431</td>\n",
       "      <td>-0.095136</td>\n",
       "      <td>0.010550</td>\n",
       "      <td>0.068314</td>\n",
       "    </tr>\n",
       "  </tbody>\n",
       "</table>\n",
       "<p>5 rows × 50 columns</p>\n",
       "</div>"
      ],
      "text/plain": [
       "         0         1         2         3         4         5         6   \\\n",
       "0 -0.645008 -0.532237  1.535664  0.612715 -0.172372  0.213141 -0.137333   \n",
       "1 -0.112836 -0.713976  0.319340 -0.948703 -1.101873  1.124373  0.232148   \n",
       "2  0.463935  1.088251 -0.076248 -0.645303 -1.116739  1.160837 -0.151011   \n",
       "3  2.541094  0.030518  1.569609  0.309201 -0.403689  0.597137 -0.924992   \n",
       "4  0.053419 -0.839811 -0.585378  1.132941  0.112841 -0.615746 -1.384223   \n",
       "\n",
       "         7         8         9     ...           40        41        42  \\\n",
       "0  0.032642 -0.004786 -0.396676    ...    -0.022264  0.015787  0.018501   \n",
       "1 -0.125393  0.382938  0.473532    ...    -0.044949  0.016920  0.011122   \n",
       "2 -0.123391 -0.325465  0.716722    ...    -0.145031  0.156465  0.101947   \n",
       "3  0.022534  1.396777 -1.541283    ...    -0.015616 -0.050454 -0.020156   \n",
       "4 -0.472093  0.136191 -0.075536    ...     0.038951  0.147759  0.163356   \n",
       "\n",
       "         43        44        45        46        47        48        49  \n",
       "0  0.039733 -0.057091 -0.005906 -0.077796  0.100756  0.049212  0.219702  \n",
       "1  0.013201 -0.031874  0.013916 -0.009799 -0.001309 -0.001425 -0.000539  \n",
       "2 -0.004539 -0.040461 -0.039013 -0.053158  0.050772 -0.118021  0.016941  \n",
       "3  0.259522 -0.232093 -0.024845 -0.009429  0.062350  0.029527  0.065995  \n",
       "4  0.520270  0.655772 -0.371871 -0.173431 -0.095136  0.010550  0.068314  \n",
       "\n",
       "[5 rows x 50 columns]"
      ]
     },
     "execution_count": 25,
     "metadata": {},
     "output_type": "execute_result"
    }
   ],
   "source": [
    "from sklearn.decomposition import PCA\n",
    "\n",
    "#主成分分析法，返回降维后的数据\n",
    "#参数n_components为主成分数目\n",
    "data_train_new = PCA(n_components=50).fit_transform(data_train.values)\n",
    "pd.DataFrame(data_train_new).head(5)"
   ]
  },
  {
   "cell_type": "markdown",
   "metadata": {},
   "source": [
    "#### 线性判别分析法（LDA）"
   ]
  },
  {
   "cell_type": "code",
   "execution_count": null,
   "metadata": {
    "collapsed": true
   },
   "outputs": [],
   "source": [
    "from sklearn.lda import LDA\n",
    "\n",
    "#线性判别分析法，返回降维后的数据\n",
    "#参数n_components为降维后的维数\n",
    "data_train_new = LDA(n_components=50).fit_transform(data_train.values,target)\n",
    "pd.DataFrame(data_train_new).head(5)"
   ]
  },
  {
   "cell_type": "markdown",
   "metadata": {},
   "source": [
    "部分内容参考自 https://www.zhihu.com/question/29316149"
   ]
  },
  {
   "cell_type": "code",
   "execution_count": 14,
   "metadata": {
    "collapsed": false
   },
   "outputs": [
    {
     "name": "stdout",
     "output_type": "stream",
     "text": [
      "版本信息：基于python 3.6\n",
      "numpy 1.15.1\n",
      "pandas 0.18.0\n",
      "sklearn 0.19.2\n",
      "scipy 1.1.0\n"
     ]
    }
   ],
   "source": [
    "print('版本信息：基于python 3.6')\n",
    "print('numpy',np.__version__)\n",
    "print('pandas',pd.__version__)\n",
    "print('sklearn',sklearn.__version__)\n",
    "print('scipy',scipy.__version__)"
   ]
  },
  {
   "cell_type": "markdown",
   "metadata": {},
   "source": []
  }
 ],
 "metadata": {
  "kernelspec": {
   "display_name": "Python 3",
   "language": "python",
   "name": "python3"
  },
  "language_info": {
   "codemirror_mode": {
    "name": "ipython",
    "version": 3
   },
   "file_extension": ".py",
   "mimetype": "text/x-python",
   "name": "python",
   "nbconvert_exporter": "python",
   "pygments_lexer": "ipython3",
   "version": "3.5.1"
  }
 },
 "nbformat": 4,
 "nbformat_minor": 2
}
